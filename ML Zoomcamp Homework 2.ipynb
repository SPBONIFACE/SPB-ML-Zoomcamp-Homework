{
 "cells": [
  {
   "cell_type": "markdown",
   "id": "a9f3451c-40af-494c-b73f-f4fa07148fab",
   "metadata": {},
   "source": [
    "***Homework 2: The goal of this homework is to create a regression model for predicting the car fuel efficiency (column 'fuel_efficiency_mpg')***"
   ]
  },
  {
   "cell_type": "code",
   "execution_count": 1,
   "id": "9d8964fb-a711-410a-a3eb-62a4e0719941",
   "metadata": {
    "scrolled": true
   },
   "outputs": [],
   "source": [
    "import pandas as pd\n",
    "import numpy as np\n",
    "import seaborn as sns\n",
    "import matplotlib.pyplot as plt\n",
    "import sklearn\n",
    "import wget\n",
    "\n",
    "np.set_printoptions(legacy='1.25')"
   ]
  },
  {
   "cell_type": "code",
   "execution_count": 2,
   "id": "bac7fab2-9db5-4bd5-a9e9-c0f49fcda3cf",
   "metadata": {},
   "outputs": [
    {
     "name": "stdout",
     "output_type": "stream",
     "text": [
      "--2025-10-06 19:09:15--  https://raw.githubusercontent.com/alexeygrigorev/datasets/master/car_fuel_efficiency.csv\n",
      "Résolution de raw.githubusercontent.com (raw.githubusercontent.com)… 2606:50c0:8000::154, 2606:50c0:8001::154, 2606:50c0:8002::154, ...\n",
      "Connexion à raw.githubusercontent.com (raw.githubusercontent.com)|2606:50c0:8000::154|:443… connecté.\n",
      "requête HTTP transmise, en attente de la réponse… 200 OK\n",
      "Taille : 874188 (854K) [text/plain]\n",
      "Sauvegarde en : « car_fuel_efficiency.csv.14 »\n",
      "\n",
      "car_fuel_efficiency 100%[===================>] 853.70K  --.-KB/s    ds 0.05s   \n",
      "\n",
      "2025-10-06 19:09:16 (17.3 MB/s) — « car_fuel_efficiency.csv.14 » sauvegardé [874188/874188]\n",
      "\n"
     ]
    }
   ],
   "source": [
    "!wget https://raw.githubusercontent.com/alexeygrigorev/datasets/master/car_fuel_efficiency.csv"
   ]
  },
  {
   "cell_type": "code",
   "execution_count": 3,
   "id": "d0c35468-5d46-4efd-97ee-ac727fb8dd25",
   "metadata": {},
   "outputs": [],
   "source": [
    "# Df extracted with wget\n",
    "df = pd.read_csv(\"car_fuel_efficiency.csv.1\")"
   ]
  },
  {
   "cell_type": "code",
   "execution_count": 4,
   "id": "c3ee3027-e7b7-46d0-9779-b959f513cf93",
   "metadata": {},
   "outputs": [],
   "source": [
    "#df = pd.read_csv(\"car_fuel_efficiencyHW2.csv\")"
   ]
  },
  {
   "cell_type": "code",
   "execution_count": 5,
   "id": "25935413-e362-4fa1-81fd-d8b37819df3c",
   "metadata": {},
   "outputs": [
    {
     "name": "stdout",
     "output_type": "stream",
     "text": [
      "<class 'pandas.core.frame.DataFrame'>\n",
      "RangeIndex: 9704 entries, 0 to 9703\n",
      "Data columns (total 11 columns):\n",
      " #   Column               Non-Null Count  Dtype  \n",
      "---  ------               --------------  -----  \n",
      " 0   engine_displacement  9704 non-null   int64  \n",
      " 1   num_cylinders        9222 non-null   float64\n",
      " 2   horsepower           8996 non-null   float64\n",
      " 3   vehicle_weight       9704 non-null   float64\n",
      " 4   acceleration         8774 non-null   float64\n",
      " 5   model_year           9704 non-null   int64  \n",
      " 6   origin               9704 non-null   object \n",
      " 7   fuel_type            9704 non-null   object \n",
      " 8   drivetrain           9704 non-null   object \n",
      " 9   num_doors            9202 non-null   float64\n",
      " 10  fuel_efficiency_mpg  9704 non-null   float64\n",
      "dtypes: float64(6), int64(2), object(3)\n",
      "memory usage: 834.1+ KB\n"
     ]
    }
   ],
   "source": [
    "# Let us have a quick look at the our dataset\n",
    "df.info()"
   ]
  },
  {
   "cell_type": "markdown",
   "id": "f224e35c-83fa-4a37-8a64-749ee36a6e6c",
   "metadata": {},
   "source": [
    "**Prepare dataset**"
   ]
  },
  {
   "cell_type": "markdown",
   "id": "ad86bbbb-016d-47e4-93ed-ac4d8bb75eaf",
   "metadata": {},
   "source": [
    "Preparing the dataset\n",
    "Use only the following columns:\n",
    "\n",
    "* 'engine_displacement',\n",
    "\n",
    "* 'horsepower',\n",
    "\n",
    "* 'vehicle_weight',\n",
    "\n",
    "* 'model_year',\n",
    "\n",
    "* 'fuel_efficiency_mpg'"
   ]
  },
  {
   "cell_type": "code",
   "execution_count": 6,
   "id": "5d06065f-c22a-49a2-9156-a01e3bdeef87",
   "metadata": {},
   "outputs": [],
   "source": [
    "#Create a list with all the features we are going to keep to train our model\n",
    "\n",
    "base = ['engine_displacement','horsepower','vehicle_weight','model_year','fuel_efficiency_mpg'] \n",
    "\n",
    "df = df[base]"
   ]
  },
  {
   "cell_type": "code",
   "execution_count": 7,
   "id": "0843f3d0-2233-4136-924e-eb7c4b06cb66",
   "metadata": {},
   "outputs": [
    {
     "data": {
      "text/html": [
       "<div>\n",
       "<style scoped>\n",
       "    .dataframe tbody tr th:only-of-type {\n",
       "        vertical-align: middle;\n",
       "    }\n",
       "\n",
       "    .dataframe tbody tr th {\n",
       "        vertical-align: top;\n",
       "    }\n",
       "\n",
       "    .dataframe thead th {\n",
       "        text-align: right;\n",
       "    }\n",
       "</style>\n",
       "<table border=\"1\" class=\"dataframe\">\n",
       "  <thead>\n",
       "    <tr style=\"text-align: right;\">\n",
       "      <th></th>\n",
       "      <th>engine_displacement</th>\n",
       "      <th>horsepower</th>\n",
       "      <th>vehicle_weight</th>\n",
       "      <th>model_year</th>\n",
       "      <th>fuel_efficiency_mpg</th>\n",
       "    </tr>\n",
       "  </thead>\n",
       "  <tbody>\n",
       "    <tr>\n",
       "      <th>0</th>\n",
       "      <td>170</td>\n",
       "      <td>159.0</td>\n",
       "      <td>3413.433759</td>\n",
       "      <td>2003</td>\n",
       "      <td>13.231729</td>\n",
       "    </tr>\n",
       "    <tr>\n",
       "      <th>1</th>\n",
       "      <td>130</td>\n",
       "      <td>97.0</td>\n",
       "      <td>3149.664934</td>\n",
       "      <td>2007</td>\n",
       "      <td>13.688217</td>\n",
       "    </tr>\n",
       "    <tr>\n",
       "      <th>2</th>\n",
       "      <td>170</td>\n",
       "      <td>78.0</td>\n",
       "      <td>3079.038997</td>\n",
       "      <td>2018</td>\n",
       "      <td>14.246341</td>\n",
       "    </tr>\n",
       "    <tr>\n",
       "      <th>3</th>\n",
       "      <td>220</td>\n",
       "      <td>NaN</td>\n",
       "      <td>2542.392402</td>\n",
       "      <td>2009</td>\n",
       "      <td>16.912736</td>\n",
       "    </tr>\n",
       "    <tr>\n",
       "      <th>4</th>\n",
       "      <td>210</td>\n",
       "      <td>140.0</td>\n",
       "      <td>3460.870990</td>\n",
       "      <td>2009</td>\n",
       "      <td>12.488369</td>\n",
       "    </tr>\n",
       "  </tbody>\n",
       "</table>\n",
       "</div>"
      ],
      "text/plain": [
       "   engine_displacement  horsepower  vehicle_weight  model_year  \\\n",
       "0                  170       159.0     3413.433759        2003   \n",
       "1                  130        97.0     3149.664934        2007   \n",
       "2                  170        78.0     3079.038997        2018   \n",
       "3                  220         NaN     2542.392402        2009   \n",
       "4                  210       140.0     3460.870990        2009   \n",
       "\n",
       "   fuel_efficiency_mpg  \n",
       "0            13.231729  \n",
       "1            13.688217  \n",
       "2            14.246341  \n",
       "3            16.912736  \n",
       "4            12.488369  "
      ]
     },
     "execution_count": 7,
     "metadata": {},
     "output_type": "execute_result"
    }
   ],
   "source": [
    "df.head()"
   ]
  },
  {
   "cell_type": "markdown",
   "id": "eb7244c3-3c24-47e7-8566-a481e1c95db9",
   "metadata": {},
   "source": [
    "**EDA**"
   ]
  },
  {
   "cell_type": "markdown",
   "id": "fbfbe528-6bbe-422b-943f-70a946c1b65e",
   "metadata": {},
   "source": [
    "- Look at the fuel_efficiency_mpg variable. Does it have a long tail?"
   ]
  },
  {
   "cell_type": "code",
   "execution_count": 8,
   "id": "cdeb5a14-49c2-4fdd-adba-2ff90279dbad",
   "metadata": {},
   "outputs": [
    {
     "data": {
      "text/plain": [
       "<Axes: xlabel='fuel_efficiency_mpg', ylabel='Count'>"
      ]
     },
     "execution_count": 8,
     "metadata": {},
     "output_type": "execute_result"
    },
    {
     "data": {
      "image/png": "[encoded data removed]",
      "text/plain": [
       "<Figure size 640x480 with 1 Axes>"
      ]
     },
     "metadata": {},
     "output_type": "display_data"
    }
   ],
   "source": [
    "sns.histplot(df['fuel_efficiency_mpg'])"
   ]
  },
  {
   "cell_type": "markdown",
   "id": "fcbb6bb1-541e-4957-98d6-26b884fa6739",
   "metadata": {},
   "source": [
    "***Answer***: No, 'fuel_efficiency_mpg' does not have a lot tail. The variable seems to have a normal distribution"
   ]
  },
  {
   "cell_type": "markdown",
   "id": "bde972e8-0ad9-4437-85e9-a89c6a159e94",
   "metadata": {},
   "source": [
    "#### **Question 1**\n",
    "\n",
    "There's one column with missing values. What is it?\n",
    "\n",
    "'engine_displacement'\n",
    "\n",
    "'horsepower'\n",
    "\n",
    "'vehicle_weight'\n",
    "\n",
    "'model_year'\n"
   ]
  },
  {
   "cell_type": "code",
   "execution_count": 9,
   "id": "9093270f-252f-4b4e-962b-601c18f99d3d",
   "metadata": {},
   "outputs": [
    {
     "data": {
      "text/plain": [
       "engine_displacement      0\n",
       "horsepower             708\n",
       "vehicle_weight           0\n",
       "model_year               0\n",
       "fuel_efficiency_mpg      0\n",
       "dtype: int64"
      ]
     },
     "execution_count": 9,
     "metadata": {},
     "output_type": "execute_result"
    }
   ],
   "source": [
    "df.isnull().sum()"
   ]
  },
  {
   "cell_type": "markdown",
   "id": "df73d296-1c1b-40e5-b0c4-e6a58ad2326f",
   "metadata": {},
   "source": [
    "*Answer:* **'horsepower'**"
   ]
  },
  {
   "cell_type": "markdown",
   "id": "cdd44527-cee7-4657-b96c-97eba162b420",
   "metadata": {},
   "source": [
    "#### **Question 2**"
   ]
  },
  {
   "cell_type": "markdown",
   "id": "080d0c7e-2525-4ed5-a1fa-554b67afa71f",
   "metadata": {},
   "source": [
    "What's the median (50% percentile) for variable 'horsepower'?\n",
    "\n",
    "49\n",
    "\n",
    "99\n",
    "\n",
    "149\n",
    "\n",
    "199"
   ]
  },
  {
   "cell_type": "code",
   "execution_count": 10,
   "id": "d103a3e1-28bc-4a44-bbbd-94f8e8a85ef9",
   "metadata": {},
   "outputs": [
    {
     "data": {
      "text/plain": [
       "149.0"
      ]
     },
     "execution_count": 10,
     "metadata": {},
     "output_type": "execute_result"
    }
   ],
   "source": [
    "df['horsepower'].median()"
   ]
  },
  {
   "cell_type": "markdown",
   "id": "abeb4760-14f7-4b2f-92b9-9004510f834e",
   "metadata": {},
   "source": [
    "***Answer:*** 149"
   ]
  },
  {
   "cell_type": "markdown",
   "id": "91099b7e-1a6c-4e28-9e5f-f88e0a0b2f06",
   "metadata": {},
   "source": [
    "**Prepare and split the dataset**\n",
    "\n",
    "Shuffle the dataset (the filtered one you created above), use seed 42.\n",
    "\n",
    "Split your data in train/val/test sets, with 60%/20%/20% distribution.\n",
    "\n",
    "Use the same code as in the lectures"
   ]
  },
  {
   "cell_type": "code",
   "execution_count": 11,
   "id": "26924f55-08db-4e4a-883d-5708f81b1fb7",
   "metadata": {},
   "outputs": [
    {
     "data": {
      "text/html": [
       "<div>\n",
       "<style scoped>\n",
       "    .dataframe tbody tr th:only-of-type {\n",
       "        vertical-align: middle;\n",
       "    }\n",
       "\n",
       "    .dataframe tbody tr th {\n",
       "        vertical-align: top;\n",
       "    }\n",
       "\n",
       "    .dataframe thead th {\n",
       "        text-align: right;\n",
       "    }\n",
       "</style>\n",
       "<table border=\"1\" class=\"dataframe\">\n",
       "  <thead>\n",
       "    <tr style=\"text-align: right;\">\n",
       "      <th></th>\n",
       "      <th>engine_displacement</th>\n",
       "      <th>horsepower</th>\n",
       "      <th>vehicle_weight</th>\n",
       "      <th>model_year</th>\n",
       "      <th>fuel_efficiency_mpg</th>\n",
       "    </tr>\n",
       "  </thead>\n",
       "  <tbody>\n",
       "    <tr>\n",
       "      <th>483</th>\n",
       "      <td>220</td>\n",
       "      <td>144.0</td>\n",
       "      <td>2535.887591</td>\n",
       "      <td>2009</td>\n",
       "      <td>16.642943</td>\n",
       "    </tr>\n",
       "    <tr>\n",
       "      <th>7506</th>\n",
       "      <td>160</td>\n",
       "      <td>141.0</td>\n",
       "      <td>2741.170484</td>\n",
       "      <td>2019</td>\n",
       "      <td>16.298377</td>\n",
       "    </tr>\n",
       "    <tr>\n",
       "      <th>8795</th>\n",
       "      <td>230</td>\n",
       "      <td>155.0</td>\n",
       "      <td>2471.880237</td>\n",
       "      <td>2017</td>\n",
       "      <td>18.591822</td>\n",
       "    </tr>\n",
       "    <tr>\n",
       "      <th>1688</th>\n",
       "      <td>150</td>\n",
       "      <td>206.0</td>\n",
       "      <td>3748.164469</td>\n",
       "      <td>2015</td>\n",
       "      <td>11.818843</td>\n",
       "    </tr>\n",
       "    <tr>\n",
       "      <th>6217</th>\n",
       "      <td>300</td>\n",
       "      <td>111.0</td>\n",
       "      <td>2135.716359</td>\n",
       "      <td>2006</td>\n",
       "      <td>19.402209</td>\n",
       "    </tr>\n",
       "    <tr>\n",
       "      <th>...</th>\n",
       "      <td>...</td>\n",
       "      <td>...</td>\n",
       "      <td>...</td>\n",
       "      <td>...</td>\n",
       "      <td>...</td>\n",
       "    </tr>\n",
       "    <tr>\n",
       "      <th>5734</th>\n",
       "      <td>210</td>\n",
       "      <td>163.0</td>\n",
       "      <td>1972.029124</td>\n",
       "      <td>2011</td>\n",
       "      <td>19.961672</td>\n",
       "    </tr>\n",
       "    <tr>\n",
       "      <th>5191</th>\n",
       "      <td>160</td>\n",
       "      <td>126.0</td>\n",
       "      <td>3011.588014</td>\n",
       "      <td>2009</td>\n",
       "      <td>14.651056</td>\n",
       "    </tr>\n",
       "    <tr>\n",
       "      <th>5390</th>\n",
       "      <td>290</td>\n",
       "      <td>187.0</td>\n",
       "      <td>2440.508039</td>\n",
       "      <td>2019</td>\n",
       "      <td>18.404435</td>\n",
       "    </tr>\n",
       "    <tr>\n",
       "      <th>860</th>\n",
       "      <td>260</td>\n",
       "      <td>129.0</td>\n",
       "      <td>1865.404480</td>\n",
       "      <td>2019</td>\n",
       "      <td>20.502460</td>\n",
       "    </tr>\n",
       "    <tr>\n",
       "      <th>7270</th>\n",
       "      <td>270</td>\n",
       "      <td>147.0</td>\n",
       "      <td>2611.939500</td>\n",
       "      <td>2017</td>\n",
       "      <td>16.816241</td>\n",
       "    </tr>\n",
       "  </tbody>\n",
       "</table>\n",
       "<p>9704 rows × 5 columns</p>\n",
       "</div>"
      ],
      "text/plain": [
       "      engine_displacement  horsepower  vehicle_weight  model_year  \\\n",
       "483                   220       144.0     2535.887591        2009   \n",
       "7506                  160       141.0     2741.170484        2019   \n",
       "8795                  230       155.0     2471.880237        2017   \n",
       "1688                  150       206.0     3748.164469        2015   \n",
       "6217                  300       111.0     2135.716359        2006   \n",
       "...                   ...         ...             ...         ...   \n",
       "5734                  210       163.0     1972.029124        2011   \n",
       "5191                  160       126.0     3011.588014        2009   \n",
       "5390                  290       187.0     2440.508039        2019   \n",
       "860                   260       129.0     1865.404480        2019   \n",
       "7270                  270       147.0     2611.939500        2017   \n",
       "\n",
       "      fuel_efficiency_mpg  \n",
       "483             16.642943  \n",
       "7506            16.298377  \n",
       "8795            18.591822  \n",
       "1688            11.818843  \n",
       "6217            19.402209  \n",
       "...                   ...  \n",
       "5734            19.961672  \n",
       "5191            14.651056  \n",
       "5390            18.404435  \n",
       "860             20.502460  \n",
       "7270            16.816241  \n",
       "\n",
       "[9704 rows x 5 columns]"
      ]
     },
     "execution_count": 11,
     "metadata": {},
     "output_type": "execute_result"
    }
   ],
   "source": [
    "#Set a random seed and shuffle the observations in our dataset\n",
    "np.random.seed(42)\n",
    "\n",
    "n = len(df)\n",
    "\n",
    "idx = np.arange(n)\n",
    "np.random.shuffle(idx)\n",
    "\n",
    "df_shuffled = df.iloc[idx]\n",
    "\n",
    "df_shuffled"
   ]
  },
  {
   "cell_type": "code",
   "execution_count": 12,
   "id": "f9d454ec-d174-447c-ac13-1c9901134bc6",
   "metadata": {},
   "outputs": [
    {
     "data": {
      "text/plain": [
       "((5824, 5), (1940, 5), (1940, 5))"
      ]
     },
     "execution_count": 12,
     "metadata": {},
     "output_type": "execute_result"
    }
   ],
   "source": [
    "#Split our dataset into a training, a validation and a test dataset\n",
    "n_val = int(0.2 * n)\n",
    "n_test = int(0.2 * n)\n",
    "n_train = n - (n_val + n_test)\n",
    "\n",
    "df_train = df_shuffled.iloc[:n_train].copy()\n",
    "df_val = df_shuffled.iloc[n_train:n_train+n_val].copy()\n",
    "df_test = df_shuffled.iloc[n_train+n_val:].copy()\n",
    "\n",
    "df_train.shape, df_val.shape, df_test.shape"
   ]
  },
  {
   "cell_type": "code",
   "execution_count": 13,
   "id": "b0806bea-99c4-412d-89d5-2c00a68f8bd8",
   "metadata": {},
   "outputs": [
    {
     "data": {
      "text/plain": [
       "((5824,), (1940,), (1940,))"
      ]
     },
     "execution_count": 13,
     "metadata": {},
     "output_type": "execute_result"
    }
   ],
   "source": [
    "#Create the target variable dataset\n",
    "y_train = df_train['fuel_efficiency_mpg']\n",
    "y_val = df_val['fuel_efficiency_mpg']\n",
    "y_test = df_test['fuel_efficiency_mpg']\n",
    "\n",
    "y_train.shape,y_val.shape, y_test.shape"
   ]
  },
  {
   "cell_type": "code",
   "execution_count": 14,
   "id": "ec95d029-e2cf-420a-850e-2adb9a70b916",
   "metadata": {},
   "outputs": [
    {
     "data": {
      "text/plain": [
       "pandas.core.series.Series"
      ]
     },
     "execution_count": 14,
     "metadata": {},
     "output_type": "execute_result"
    }
   ],
   "source": [
    "type(y_train)"
   ]
  },
  {
   "cell_type": "code",
   "execution_count": 15,
   "id": "764343c3-b5b2-4244-8251-e77ac9509338",
   "metadata": {},
   "outputs": [],
   "source": [
    "# Now we will drop the target from the feature datasets\n",
    "del df_train['fuel_efficiency_mpg']\n",
    "del df_val['fuel_efficiency_mpg']\n",
    "del df_test['fuel_efficiency_mpg']"
   ]
  },
  {
   "cell_type": "code",
   "execution_count": 16,
   "id": "8b2650af-0d99-4159-90af-b51656b168ba",
   "metadata": {},
   "outputs": [
    {
     "data": {
      "text/html": [
       "<div>\n",
       "<style scoped>\n",
       "    .dataframe tbody tr th:only-of-type {\n",
       "        vertical-align: middle;\n",
       "    }\n",
       "\n",
       "    .dataframe tbody tr th {\n",
       "        vertical-align: top;\n",
       "    }\n",
       "\n",
       "    .dataframe thead th {\n",
       "        text-align: right;\n",
       "    }\n",
       "</style>\n",
       "<table border=\"1\" class=\"dataframe\">\n",
       "  <thead>\n",
       "    <tr style=\"text-align: right;\">\n",
       "      <th></th>\n",
       "      <th>engine_displacement</th>\n",
       "      <th>horsepower</th>\n",
       "      <th>vehicle_weight</th>\n",
       "      <th>model_year</th>\n",
       "    </tr>\n",
       "  </thead>\n",
       "  <tbody>\n",
       "    <tr>\n",
       "      <th>483</th>\n",
       "      <td>220</td>\n",
       "      <td>144.0</td>\n",
       "      <td>2535.887591</td>\n",
       "      <td>2009</td>\n",
       "    </tr>\n",
       "    <tr>\n",
       "      <th>7506</th>\n",
       "      <td>160</td>\n",
       "      <td>141.0</td>\n",
       "      <td>2741.170484</td>\n",
       "      <td>2019</td>\n",
       "    </tr>\n",
       "    <tr>\n",
       "      <th>8795</th>\n",
       "      <td>230</td>\n",
       "      <td>155.0</td>\n",
       "      <td>2471.880237</td>\n",
       "      <td>2017</td>\n",
       "    </tr>\n",
       "    <tr>\n",
       "      <th>1688</th>\n",
       "      <td>150</td>\n",
       "      <td>206.0</td>\n",
       "      <td>3748.164469</td>\n",
       "      <td>2015</td>\n",
       "    </tr>\n",
       "    <tr>\n",
       "      <th>6217</th>\n",
       "      <td>300</td>\n",
       "      <td>111.0</td>\n",
       "      <td>2135.716359</td>\n",
       "      <td>2006</td>\n",
       "    </tr>\n",
       "  </tbody>\n",
       "</table>\n",
       "</div>"
      ],
      "text/plain": [
       "      engine_displacement  horsepower  vehicle_weight  model_year\n",
       "483                   220       144.0     2535.887591        2009\n",
       "7506                  160       141.0     2741.170484        2019\n",
       "8795                  230       155.0     2471.880237        2017\n",
       "1688                  150       206.0     3748.164469        2015\n",
       "6217                  300       111.0     2135.716359        2006"
      ]
     },
     "execution_count": 16,
     "metadata": {},
     "output_type": "execute_result"
    }
   ],
   "source": [
    "df_train.head()"
   ]
  },
  {
   "cell_type": "markdown",
   "id": "3d404551-4bd5-4e0d-9ba5-9cc4dbc80445",
   "metadata": {},
   "source": [
    "#### **Question 3**\n",
    "\n",
    "* We need to deal with missing values for the column from Q1.\n",
    "\n",
    "* We have two options: fill it with 0 or with the mean of this variable.\n",
    "\n",
    "* Try both options. For each, train a linear regression model without regularization using the code from the lessons.\n",
    "\n",
    "* For computing the mean, use the training only!\n",
    "\n",
    "* Use the validation dataset to evaluate the models and compare the RMSE of each option.\n",
    "\n",
    "* Round the RMSE scores to 2 decimal digits using round(score, 2)\n",
    "\n",
    "* Which option gives better RMSE?"
   ]
  },
  {
   "cell_type": "markdown",
   "id": "d7e131c2-6041-4560-b609-49dfdac95b38",
   "metadata": {},
   "source": [
    "**Option 1: filling missing values with 0 using the fillna options**"
   ]
  },
  {
   "cell_type": "code",
   "execution_count": 17,
   "id": "e3808453-5ca8-4f2c-b3ee-ec828ccffb4f",
   "metadata": {},
   "outputs": [
    {
     "data": {
      "text/plain": [
       "['engine_displacement', 'horsepower', 'vehicle_weight']"
      ]
     },
     "execution_count": 17,
     "metadata": {},
     "output_type": "execute_result"
    }
   ],
   "source": [
    "base = ['engine_displacement', 'horsepower', 'vehicle_weight']\n",
    "base"
   ]
  },
  {
   "cell_type": "markdown",
   "id": "694e09c6-2cec-4d9c-92d4-2dc83202ba74",
   "metadata": {},
   "source": [
    "**Prepare data following the course code**"
   ]
  },
  {
   "cell_type": "code",
   "execution_count": 18,
   "id": "95afd72f-e771-436a-a74f-d07d1585295f",
   "metadata": {},
   "outputs": [],
   "source": [
    "# Create the function to prepare our feature dataset\n",
    "def prepare_X(df):\n",
    "    df = df.copy()\n",
    "    features = base.copy()\n",
    "\n",
    "    df['age'] = 2017 - df['model_year']\n",
    "    features.append('age')\n",
    "\n",
    "    df_num = df[features]\n",
    "    df_num = df_num.fillna(0) # Here we will input the missing data with 0\n",
    "\n",
    "    X = df_num.values\n",
    "    return X"
   ]
  },
  {
   "cell_type": "code",
   "execution_count": 19,
   "id": "069e8db5-2a1a-4165-bb86-9c9605cf6f55",
   "metadata": {},
   "outputs": [],
   "source": [
    "# Create the linear regression function in order to retrieve the biais and the weights for the respective features\n",
    "def train_linear_regression(X, y):\n",
    "    # X a une dimension de 7150 par 5\n",
    "    ones = np.ones(X.shape[0])\n",
    "    X = np.column_stack([ones, X])\n",
    "    XTX = X.T.dot(X)\n",
    "    XTX_inv = np.linalg.inv(XTX)\n",
    "    w = XTX_inv.dot(X.T).dot(y)\n",
    "    \n",
    "    return w[0], w[1:]"
   ]
  },
  {
   "cell_type": "code",
   "execution_count": 20,
   "id": "7d9eafcd-201b-47f2-84ef-dc74f81ba6ec",
   "metadata": {},
   "outputs": [],
   "source": [
    "# Create the function to analyze our model prediction errors, RMSE\n",
    "def rmse(y, y_pred):\n",
    "    se = (y - y_pred) ** 2\n",
    "    mse = se.mean()\n",
    "    rmse = np.sqrt(mse)\n",
    "    return print(\"score:\", round(rmse, 2))"
   ]
  },
  {
   "cell_type": "code",
   "execution_count": 21,
   "id": "80762b71-5cc1-4a23-9652-0f4ade999996",
   "metadata": {},
   "outputs": [
    {
     "name": "stdout",
     "output_type": "stream",
     "text": [
      "score: 0.52\n"
     ]
    }
   ],
   "source": [
    "#Prepare the data, get the linear regression weights, make prediction on the validation and finally get the predictior error score RMSE\n",
    "X_train = prepare_X(df_train)\n",
    "w0, w = train_linear_regression(X_train, y_train)\n",
    "\n",
    "X_val = prepare_X(df_val)\n",
    "y_pred = w0 + X_val.dot(w)\n",
    "\n",
    "rmse(y_val, y_pred)"
   ]
  },
  {
   "cell_type": "markdown",
   "id": "be64e6ac-4a81-4a31-bc28-6beee2431893",
   "metadata": {},
   "source": [
    "**Option 2: filling missing values with the mean values of the horsepower variable using the fillna options**"
   ]
  },
  {
   "cell_type": "code",
   "execution_count": 22,
   "id": "699be37f-bde5-43c6-955b-af0859f6866e",
   "metadata": {},
   "outputs": [
    {
     "data": {
      "text/plain": [
       "149.54476367006487"
      ]
     },
     "execution_count": 22,
     "metadata": {},
     "output_type": "execute_result"
    }
   ],
   "source": [
    "#Calculate the mean value of the variable 'horsepower' so that we can input the missing values in that column with the mean\n",
    "#We will use the mean value of horsepower from the training dataset only\n",
    "#HP_mean = round(df_train['horsepower'].mean(),2)\n",
    "HP_mean = df_train['horsepower'].mean()\n",
    "HP_mean"
   ]
  },
  {
   "cell_type": "code",
   "execution_count": 23,
   "id": "fb112fb5-edd1-4889-a51c-11b9b3e46eab",
   "metadata": {},
   "outputs": [],
   "source": [
    "#Create the function to prepare our feature dataset for our linear regression model and replace the missing values \n",
    "#in the variable \"horsepower\" with the mean value of that variable in the training dataset\n",
    "\n",
    "def prepare_X_mean(df):\n",
    "    df = df.copy()\n",
    "    features = base.copy()\n",
    "\n",
    "    df['age'] = 2017 - df['model_year']\n",
    "    features.append('age')\n",
    "\n",
    "    df_num = df[features]\n",
    "    df_num = df_num.fillna(HP_mean) # No need to specify dfdf_num['horsepower'] here as it is the only variable with missing values\n",
    "    X = df_num.values\n",
    "    return X"
   ]
  },
  {
   "cell_type": "code",
   "execution_count": 24,
   "id": "0d8d10f9-3e74-445e-b398-2f8d449b11d0",
   "metadata": {},
   "outputs": [
    {
     "name": "stdout",
     "output_type": "stream",
     "text": [
      "score: 0.46\n"
     ]
    }
   ],
   "source": [
    "# preparare our training dataset for our linear regression model and get the model weights, run a prediction on the validation set and\n",
    "# finally get the model prediction error score, RMSE\n",
    "X_train_mean = prepare_X_mean(df_train) # Mettre à jour avec le bon df ! Attention on utilise quelle variable pour y-train\n",
    "w0, w = train_linear_regression(X_train_mean, y_train)\n",
    "\n",
    "X_val = prepare_X_mean(df_val)\n",
    "y_pred = w0 + X_val.dot(w)\n",
    "\n",
    "rmse(y_val, y_pred)"
   ]
  },
  {
   "cell_type": "markdown",
   "id": "740fe1fb-027b-4cd5-9be0-502daa0edc6f",
   "metadata": {},
   "source": [
    "***Answer:*** with the mean value"
   ]
  },
  {
   "cell_type": "markdown",
   "id": "fb341dea-008d-4a21-aec8-628451d77411",
   "metadata": {},
   "source": [
    "#### **Question 4**"
   ]
  },
  {
   "cell_type": "markdown",
   "id": "dcc94fcf-172d-454b-bd9b-cc281220a88d",
   "metadata": {},
   "source": [
    "* Now let's train a regularized linear regression.\n",
    "  \n",
    "* For this question, fill the NAs with 0.\n",
    "* Try different values of r from this list: [0, 0.01, 0.1, 1, 5, 10, 100].\n",
    "* Use RMSE to evaluate the model on the validation dataset.\n",
    "* Round the RMSE scores to 2 decimal digits.\n",
    "* Which r gives the best RMSE?\n",
    "* If multiple options give the same best RMSE, select the smallest r."
   ]
  },
  {
   "cell_type": "code",
   "execution_count": 25,
   "id": "70cc3d34-8d29-41e1-9741-a2447fc7fafb",
   "metadata": {},
   "outputs": [],
   "source": [
    "#Create a new linear regression function which will take in an additionAL parameter \"r`\" for regularization\n",
    "def train_linear_regression_reg(X, y, r):\n",
    "    ones = np.ones(X.shape[0])\n",
    "    X = np.column_stack([ones, X])\n",
    "    \n",
    "    XTX = X.T.dot(X)\n",
    "    XTX = XTX + r * np.eye(XTX.shape[0])\n",
    "    \n",
    "    XTX_inv = np.linalg.inv(XTX)\n",
    "    w_full = XTX_inv.dot(X.T).dot(y)\n",
    "    return w_full[0], w_full[1:]"
   ]
  },
  {
   "cell_type": "code",
   "execution_count": 26,
   "id": "ed69e438-6f23-4879-beb2-03a599023220",
   "metadata": {},
   "outputs": [],
   "source": [
    "#Create a list \"r\" including all the values that we want the parameter are to take\n",
    "r = [0, 0.01, 0.1, 1, 5, 10, 100]"
   ]
  },
  {
   "cell_type": "markdown",
   "id": "46e0d11a-5c11-41c4-9de3-7417d72a4c9a",
   "metadata": {},
   "source": [
    "Let us first run our regularized linear regression with a value of r = 0.01 first. We will loop the function with the different values for \"r\" later"
   ]
  },
  {
   "cell_type": "code",
   "execution_count": 27,
   "id": "bcf3c3e4-162c-440d-aa2f-2a428439f134",
   "metadata": {},
   "outputs": [
    {
     "name": "stdout",
     "output_type": "stream",
     "text": [
      "score: 0.5\n"
     ]
    }
   ],
   "source": [
    "w0, w = train_linear_regression_reg(X_train, y_train, r = 0.01)\n",
    "\n",
    "X_val = prepare_X_mean(df_val)\n",
    "y_pred = w0 + X_val.dot(w)\n",
    "\n",
    "rmse(y_val, y_pred)"
   ]
  },
  {
   "cell_type": "code",
   "execution_count": 28,
   "id": "9850a890-ba74-4f85-89bd-86414def7435",
   "metadata": {},
   "outputs": [
    {
     "name": "stdout",
     "output_type": "stream",
     "text": [
      "score: 0.52\n",
      "R value: 0.0 , w0 value: 29.519182091369167\n",
      "\n",
      "score: 0.52\n",
      "R value: 1e-05 , w0 value: 29.51917886217373\n",
      "\n",
      "score: 0.52\n",
      "R value: 0.0001 , w0 value: 29.51914979944881\n",
      "\n",
      "score: 0.52\n",
      "R value: 0.001 , w0 value: 29.5188591753454\n",
      "\n",
      "score: 0.52\n",
      "R value: 0.1 , w0 value: 29.48692542253794\n",
      "\n",
      "score: 0.52\n",
      "R value: 1 , w0 value: 29.19975684810268\n",
      "\n",
      "score: 0.64\n",
      "R value: 10 , w0 value: 26.608407148797703\n",
      "\n"
     ]
    }
   ],
   "source": [
    "#Get the RMSE score, and weight value based on different regularization value\n",
    "for r in [0.0, 0.00001, 0.0001, 0.001, 0.1, 1, 10]:\n",
    "    X_train = prepare_X(df_train)\n",
    "    w0, w = train_linear_regression_reg(X_train, y_train, r=r)\n",
    "\n",
    "    X_val = prepare_X(df_val)\n",
    "    y_pred = w0 + X_val.dot(w)\n",
    "\n",
    "    score =rmse(y_val, y_pred)\n",
    "    print(\"R value: {} , w0 value: {}\".format(r,w0))\n",
    "    print()"
   ]
  },
  {
   "cell_type": "markdown",
   "id": "2b50406f-393e-42a0-aab0-6c6828138f40",
   "metadata": {},
   "source": [
    "***Answer:*** the best \"r\" parameter is 0"
   ]
  },
  {
   "cell_type": "markdown",
   "id": "f2130658-0795-4b5b-a989-c9ba62d5362e",
   "metadata": {},
   "source": [
    "#### **Question 5**"
   ]
  },
  {
   "cell_type": "markdown",
   "id": "3874bebd-658a-47b8-85fa-160332a5f8c0",
   "metadata": {},
   "source": [
    "* We used seed 42 for splitting the data. Let's find out how selecting the seed influences our score.\n",
    "* Try different seed values: [0, 1, 2, 3, 4, 5, 6, 7, 8, 9].\n",
    "* For each seed, do the train/validation/test split with 60%/20%/20% distribution.\n",
    "* Fill the missing values with 0 and train a model without regularization.\n",
    "* For each seed, evaluate the model on the validation dataset and collect the RMSE scores.\n",
    "* What's the standard deviation of all the scores? To compute the standard deviation, use np.std.\n",
    "* Round the result to 3 decimal digits (round(std, 3))"
   ]
  },
  {
   "cell_type": "code",
   "execution_count": 29,
   "id": "9201da45-15a2-4700-9fc7-4d60d0a8d9d5",
   "metadata": {},
   "outputs": [],
   "source": [
    "seed_list = [0, 1, 2, 3, 4, 5, 6, 7, 8, 9]"
   ]
  },
  {
   "cell_type": "code",
   "execution_count": 30,
   "id": "5f7a2c1e-14ff-43dc-8e4f-6297699185ab",
   "metadata": {},
   "outputs": [],
   "source": [
    "# Let us create a new rmse function rounded to 3 decimal digits INTOUCHE\n",
    "#def rmse(y, y_pred):\n",
    "    #se = (y - y_pred) ** 2\n",
    "    #mse = se.mean()\n",
    "    #rmse = np.sqrt(mse)\n",
    "    #return print(\"score:\", round(rmse, 3))"
   ]
  },
  {
   "cell_type": "code",
   "execution_count": 31,
   "id": "f1bd6759-1ac7-47fd-a25b-55c368a92ca3",
   "metadata": {},
   "outputs": [],
   "source": [
    "# Let us create a new rmse function rounded to 3 decimal digits\n",
    "def rmse(y, y_pred):\n",
    "    se = (y - y_pred) ** 2\n",
    "    mse = se.mean()\n",
    "    rmse = np.sqrt(mse)\n",
    "    score = round(rmse, 3)\n",
    "    #score = rmse # ajouté à la place de la ligne au dessus\n",
    "    return score"
   ]
  },
  {
   "cell_type": "code",
   "execution_count": 32,
   "id": "bcdd8826-92d3-4f60-a301-ba627ed2c432",
   "metadata": {},
   "outputs": [
    {
     "name": "stdout",
     "output_type": "stream",
     "text": [
      "Seed value: 0\n",
      "score: 0.521\n",
      "\n",
      "Seed value: 1\n",
      "score: 0.521\n",
      "\n",
      "Seed value: 2\n",
      "score: 0.523\n",
      "\n",
      "Seed value: 3\n",
      "score: 0.516\n",
      "\n",
      "Seed value: 4\n",
      "score: 0.511\n",
      "\n",
      "Seed value: 5\n",
      "score: 0.528\n",
      "\n",
      "Seed value: 6\n",
      "score: 0.531\n",
      "\n",
      "Seed value: 7\n",
      "score: 0.509\n",
      "\n",
      "Seed value: 8\n",
      "score: 0.515\n",
      "\n",
      "Seed value: 9\n",
      "score: 0.513\n",
      "\n"
     ]
    }
   ],
   "source": [
    "#Get the RMSE score based on the different seeds used for shuffling our 3 datasets\n",
    "rmse_list = []\n",
    "\n",
    "for i in seed_list: \n",
    "    np.random.seed(i)\n",
    "\n",
    "    n = len(df)\n",
    "\n",
    "    idx = np.arange(n)\n",
    "    np.random.shuffle(idx)\n",
    "\n",
    "    df_shuffled = df.iloc[idx]\n",
    "\n",
    "    df_shuffled\n",
    "\n",
    "    print(\"Seed value: {}\".format(i))\n",
    "    #Now we will create some shuffled dataset using the sedd\n",
    "    \n",
    "    df_train2 = df_shuffled.iloc[:n_train].copy()\n",
    "    df_val2 = df_shuffled.iloc[n_train:n_train+n_val].copy()\n",
    "    df_test2 = df_shuffled.iloc[n_train+n_val:].copy()\n",
    "\n",
    "\n",
    "    # Let us create our variable target dataset\n",
    "    y_train2 = df_train2['fuel_efficiency_mpg']\n",
    "    y_val2 = df_val2['fuel_efficiency_mpg']\n",
    "    y_test2 = df_test2['fuel_efficiency_mpg']\n",
    "\n",
    "    del df_train2['fuel_efficiency_mpg']\n",
    "    del df_val2['fuel_efficiency_mpg']\n",
    "    del df_test2['fuel_efficiency_mpg']\n",
    "\n",
    "    X_train2 = prepare_X(df_train2) # Mettre à jour avec le bon df ! Attention on utilise quelle variable pour y-train\n",
    "    w0, w = train_linear_regression(X_train2, y_train2)\n",
    "\n",
    "    X_val2 = prepare_X(df_val2)\n",
    "    y_pred = w0 + X_val2.dot(w)\n",
    "\n",
    "    score = rmse(y_val2, y_pred)\n",
    "    print(\"score:\", score)\n",
    "    #rmse_value = np.float(rmse)\n",
    "    rmse_list.append(score)#\n",
    "    print()"
   ]
  },
  {
   "cell_type": "code",
   "execution_count": 33,
   "id": "7cc604fd-bbce-41bf-ac88-bba9ba6d51ef",
   "metadata": {},
   "outputs": [
    {
     "data": {
      "text/plain": [
       "[0.521, 0.521, 0.523, 0.516, 0.511, 0.528, 0.531, 0.509, 0.515, 0.513]"
      ]
     },
     "execution_count": 33,
     "metadata": {},
     "output_type": "execute_result"
    }
   ],
   "source": [
    "# Display a list with all the scores you obtained by setting a different seed number\n",
    "rmse_list"
   ]
  },
  {
   "cell_type": "code",
   "execution_count": 34,
   "id": "62dc77dc-a7c1-42bb-96fa-abf2d15fa3cf",
   "metadata": {},
   "outputs": [
    {
     "data": {
      "text/plain": [
       "0.006881860213634107"
      ]
     },
     "execution_count": 34,
     "metadata": {},
     "output_type": "execute_result"
    }
   ],
   "source": [
    "# Calculate the score standard deviation\n",
    "std = np.std(rmse_list)\n",
    "std"
   ]
  },
  {
   "cell_type": "code",
   "execution_count": 35,
   "id": "432431ae-48d4-4dcb-89be-2e3039bc015c",
   "metadata": {},
   "outputs": [
    {
     "data": {
      "text/plain": [
       "0.007"
      ]
     },
     "execution_count": 35,
     "metadata": {},
     "output_type": "execute_result"
    }
   ],
   "source": [
    "std = round(std, 3)\n",
    "std"
   ]
  },
  {
   "cell_type": "markdown",
   "id": "5aab35a5-699b-409a-8d26-0907ff5fed9d",
   "metadata": {},
   "source": [
    "What's the value of std?"
   ]
  },
  {
   "cell_type": "markdown",
   "id": "c5db9c70-909d-4ac4-afc9-8384698d168f",
   "metadata": {},
   "source": [
    "***Answer:*** 0.006"
   ]
  },
  {
   "cell_type": "markdown",
   "id": "7dad252b-8e5e-4c69-a5f8-7a2a14b61e9d",
   "metadata": {},
   "source": [
    "#### **Question 6**"
   ]
  },
  {
   "cell_type": "markdown",
   "id": "732558d1-8227-4bb8-8c3d-51b5c5bbbe6b",
   "metadata": {},
   "source": [
    "* Split the dataset like previously, use seed 9.\n",
    "  \n",
    "* Combine train and validation datasets.\n",
    "\n",
    "* Fill the missing values with 0 and train a model with r=0.001.\n",
    "\n",
    "* What's the RMSE on the test dataset?"
   ]
  },
  {
   "cell_type": "code",
   "execution_count": 36,
   "id": "665d115a-9db8-41ea-9feb-f0a2d31a1a08",
   "metadata": {},
   "outputs": [
    {
     "data": {
      "text/html": [
       "<div>\n",
       "<style scoped>\n",
       "    .dataframe tbody tr th:only-of-type {\n",
       "        vertical-align: middle;\n",
       "    }\n",
       "\n",
       "    .dataframe tbody tr th {\n",
       "        vertical-align: top;\n",
       "    }\n",
       "\n",
       "    .dataframe thead th {\n",
       "        text-align: right;\n",
       "    }\n",
       "</style>\n",
       "<table border=\"1\" class=\"dataframe\">\n",
       "  <thead>\n",
       "    <tr style=\"text-align: right;\">\n",
       "      <th></th>\n",
       "      <th>engine_displacement</th>\n",
       "      <th>horsepower</th>\n",
       "      <th>vehicle_weight</th>\n",
       "      <th>model_year</th>\n",
       "      <th>fuel_efficiency_mpg</th>\n",
       "    </tr>\n",
       "  </thead>\n",
       "  <tbody>\n",
       "    <tr>\n",
       "      <th>9066</th>\n",
       "      <td>240</td>\n",
       "      <td>136.0</td>\n",
       "      <td>4050.512290</td>\n",
       "      <td>2006</td>\n",
       "      <td>10.304700</td>\n",
       "    </tr>\n",
       "    <tr>\n",
       "      <th>3073</th>\n",
       "      <td>190</td>\n",
       "      <td>141.0</td>\n",
       "      <td>3195.866942</td>\n",
       "      <td>2017</td>\n",
       "      <td>13.479434</td>\n",
       "    </tr>\n",
       "    <tr>\n",
       "      <th>2476</th>\n",
       "      <td>200</td>\n",
       "      <td>184.0</td>\n",
       "      <td>3006.164370</td>\n",
       "      <td>2017</td>\n",
       "      <td>16.190653</td>\n",
       "    </tr>\n",
       "    <tr>\n",
       "      <th>658</th>\n",
       "      <td>200</td>\n",
       "      <td>NaN</td>\n",
       "      <td>2947.143980</td>\n",
       "      <td>2022</td>\n",
       "      <td>15.446503</td>\n",
       "    </tr>\n",
       "    <tr>\n",
       "      <th>954</th>\n",
       "      <td>250</td>\n",
       "      <td>132.0</td>\n",
       "      <td>3114.371978</td>\n",
       "      <td>2001</td>\n",
       "      <td>14.472172</td>\n",
       "    </tr>\n",
       "    <tr>\n",
       "      <th>...</th>\n",
       "      <td>...</td>\n",
       "      <td>...</td>\n",
       "      <td>...</td>\n",
       "      <td>...</td>\n",
       "      <td>...</td>\n",
       "    </tr>\n",
       "    <tr>\n",
       "      <th>6200</th>\n",
       "      <td>130</td>\n",
       "      <td>190.0</td>\n",
       "      <td>2929.265698</td>\n",
       "      <td>2018</td>\n",
       "      <td>16.408894</td>\n",
       "    </tr>\n",
       "    <tr>\n",
       "      <th>501</th>\n",
       "      <td>270</td>\n",
       "      <td>127.0</td>\n",
       "      <td>3489.985764</td>\n",
       "      <td>2017</td>\n",
       "      <td>12.502945</td>\n",
       "    </tr>\n",
       "    <tr>\n",
       "      <th>6782</th>\n",
       "      <td>240</td>\n",
       "      <td>177.0</td>\n",
       "      <td>3348.840052</td>\n",
       "      <td>2010</td>\n",
       "      <td>13.245621</td>\n",
       "    </tr>\n",
       "    <tr>\n",
       "      <th>4444</th>\n",
       "      <td>250</td>\n",
       "      <td>150.0</td>\n",
       "      <td>2985.704630</td>\n",
       "      <td>2022</td>\n",
       "      <td>15.215270</td>\n",
       "    </tr>\n",
       "    <tr>\n",
       "      <th>8574</th>\n",
       "      <td>230</td>\n",
       "      <td>192.0</td>\n",
       "      <td>3124.473642</td>\n",
       "      <td>2014</td>\n",
       "      <td>14.509000</td>\n",
       "    </tr>\n",
       "  </tbody>\n",
       "</table>\n",
       "<p>9704 rows × 5 columns</p>\n",
       "</div>"
      ],
      "text/plain": [
       "      engine_displacement  horsepower  vehicle_weight  model_year  \\\n",
       "9066                  240       136.0     4050.512290        2006   \n",
       "3073                  190       141.0     3195.866942        2017   \n",
       "2476                  200       184.0     3006.164370        2017   \n",
       "658                   200         NaN     2947.143980        2022   \n",
       "954                   250       132.0     3114.371978        2001   \n",
       "...                   ...         ...             ...         ...   \n",
       "6200                  130       190.0     2929.265698        2018   \n",
       "501                   270       127.0     3489.985764        2017   \n",
       "6782                  240       177.0     3348.840052        2010   \n",
       "4444                  250       150.0     2985.704630        2022   \n",
       "8574                  230       192.0     3124.473642        2014   \n",
       "\n",
       "      fuel_efficiency_mpg  \n",
       "9066            10.304700  \n",
       "3073            13.479434  \n",
       "2476            16.190653  \n",
       "658             15.446503  \n",
       "954             14.472172  \n",
       "...                   ...  \n",
       "6200            16.408894  \n",
       "501             12.502945  \n",
       "6782            13.245621  \n",
       "4444            15.215270  \n",
       "8574            14.509000  \n",
       "\n",
       "[9704 rows x 5 columns]"
      ]
     },
     "execution_count": 36,
     "metadata": {},
     "output_type": "execute_result"
    }
   ],
   "source": [
    "np.random.seed(9)\n",
    "\n",
    "n = len(df)\n",
    "\n",
    "idx = np.arange(n)\n",
    "np.random.shuffle(idx)\n",
    "\n",
    "df_shuffled = df.iloc[idx]\n",
    "\n",
    "df_shuffled"
   ]
  },
  {
   "cell_type": "code",
   "execution_count": 37,
   "id": "273ffb7b-bad2-4554-b1a9-cfbed2847f4c",
   "metadata": {},
   "outputs": [
    {
     "data": {
      "text/plain": [
       "((5824, 5), (1940, 5), (1940, 5))"
      ]
     },
     "execution_count": 37,
     "metadata": {},
     "output_type": "execute_result"
    }
   ],
   "source": [
    "# Split the dataset into train and validation dataset etc...\n",
    "df_train = df_shuffled.iloc[:n_train].copy()\n",
    "df_val = df_shuffled.iloc[n_train:n_train+n_val].copy()\n",
    "df_test = df_shuffled.iloc[n_train+n_val:].copy()\n",
    "\n",
    "df_train.shape, df_val.shape, df_test.shape # ME : DO I NEED TO RESET THE INDEX"
   ]
  },
  {
   "cell_type": "code",
   "execution_count": 38,
   "id": "baa02c8c-709e-4b64-940e-9e054923abe1",
   "metadata": {},
   "outputs": [
    {
     "data": {
      "text/plain": [
       "((5824,), (1940,), (1940,))"
      ]
     },
     "execution_count": 38,
     "metadata": {},
     "output_type": "execute_result"
    }
   ],
   "source": [
    "#Create our variable target dataset\n",
    "y_train = df_train['fuel_efficiency_mpg']\n",
    "y_val = df_val['fuel_efficiency_mpg']\n",
    "y_test = df_test['fuel_efficiency_mpg']\n",
    "\n",
    "y_train.shape,y_val.shape, y_test.shape"
   ]
  },
  {
   "cell_type": "code",
   "execution_count": 39,
   "id": "557f9558-564b-4e88-b174-3f49cb3abf8e",
   "metadata": {},
   "outputs": [],
   "source": [
    "# Drop the target variable from the dataset\n",
    "del df_train['fuel_efficiency_mpg']\n",
    "del df_val['fuel_efficiency_mpg']\n",
    "del df_test['fuel_efficiency_mpg']"
   ]
  },
  {
   "cell_type": "code",
   "execution_count": 40,
   "id": "3b5d3ab2-aff4-4452-838b-68c49789fd72",
   "metadata": {},
   "outputs": [],
   "source": [
    "# Concatenate the training and validation dataset, and the training + validation targe\n",
    "df_train_full = pd.concat([df_train,df_val]).reset_index(drop=True)"
   ]
  },
  {
   "cell_type": "code",
   "execution_count": 41,
   "id": "ac6fe6b6-1ebd-47a5-906a-f4d6b0c36d15",
   "metadata": {},
   "outputs": [
    {
     "data": {
      "text/html": [
       "<div>\n",
       "<style scoped>\n",
       "    .dataframe tbody tr th:only-of-type {\n",
       "        vertical-align: middle;\n",
       "    }\n",
       "\n",
       "    .dataframe tbody tr th {\n",
       "        vertical-align: top;\n",
       "    }\n",
       "\n",
       "    .dataframe thead th {\n",
       "        text-align: right;\n",
       "    }\n",
       "</style>\n",
       "<table border=\"1\" class=\"dataframe\">\n",
       "  <thead>\n",
       "    <tr style=\"text-align: right;\">\n",
       "      <th></th>\n",
       "      <th>engine_displacement</th>\n",
       "      <th>horsepower</th>\n",
       "      <th>vehicle_weight</th>\n",
       "      <th>model_year</th>\n",
       "    </tr>\n",
       "  </thead>\n",
       "  <tbody>\n",
       "    <tr>\n",
       "      <th>0</th>\n",
       "      <td>240</td>\n",
       "      <td>136.0</td>\n",
       "      <td>4050.512290</td>\n",
       "      <td>2006</td>\n",
       "    </tr>\n",
       "    <tr>\n",
       "      <th>1</th>\n",
       "      <td>190</td>\n",
       "      <td>141.0</td>\n",
       "      <td>3195.866942</td>\n",
       "      <td>2017</td>\n",
       "    </tr>\n",
       "    <tr>\n",
       "      <th>2</th>\n",
       "      <td>200</td>\n",
       "      <td>184.0</td>\n",
       "      <td>3006.164370</td>\n",
       "      <td>2017</td>\n",
       "    </tr>\n",
       "    <tr>\n",
       "      <th>3</th>\n",
       "      <td>200</td>\n",
       "      <td>NaN</td>\n",
       "      <td>2947.143980</td>\n",
       "      <td>2022</td>\n",
       "    </tr>\n",
       "    <tr>\n",
       "      <th>4</th>\n",
       "      <td>250</td>\n",
       "      <td>132.0</td>\n",
       "      <td>3114.371978</td>\n",
       "      <td>2001</td>\n",
       "    </tr>\n",
       "    <tr>\n",
       "      <th>...</th>\n",
       "      <td>...</td>\n",
       "      <td>...</td>\n",
       "      <td>...</td>\n",
       "      <td>...</td>\n",
       "    </tr>\n",
       "    <tr>\n",
       "      <th>7759</th>\n",
       "      <td>200</td>\n",
       "      <td>167.0</td>\n",
       "      <td>3470.715658</td>\n",
       "      <td>2003</td>\n",
       "    </tr>\n",
       "    <tr>\n",
       "      <th>7760</th>\n",
       "      <td>180</td>\n",
       "      <td>144.0</td>\n",
       "      <td>3605.310144</td>\n",
       "      <td>2016</td>\n",
       "    </tr>\n",
       "    <tr>\n",
       "      <th>7761</th>\n",
       "      <td>180</td>\n",
       "      <td>154.0</td>\n",
       "      <td>3346.965671</td>\n",
       "      <td>2018</td>\n",
       "    </tr>\n",
       "    <tr>\n",
       "      <th>7762</th>\n",
       "      <td>210</td>\n",
       "      <td>152.0</td>\n",
       "      <td>2500.175687</td>\n",
       "      <td>2020</td>\n",
       "    </tr>\n",
       "    <tr>\n",
       "      <th>7763</th>\n",
       "      <td>260</td>\n",
       "      <td>174.0</td>\n",
       "      <td>2702.257301</td>\n",
       "      <td>2011</td>\n",
       "    </tr>\n",
       "  </tbody>\n",
       "</table>\n",
       "<p>7764 rows × 4 columns</p>\n",
       "</div>"
      ],
      "text/plain": [
       "      engine_displacement  horsepower  vehicle_weight  model_year\n",
       "0                     240       136.0     4050.512290        2006\n",
       "1                     190       141.0     3195.866942        2017\n",
       "2                     200       184.0     3006.164370        2017\n",
       "3                     200         NaN     2947.143980        2022\n",
       "4                     250       132.0     3114.371978        2001\n",
       "...                   ...         ...             ...         ...\n",
       "7759                  200       167.0     3470.715658        2003\n",
       "7760                  180       144.0     3605.310144        2016\n",
       "7761                  180       154.0     3346.965671        2018\n",
       "7762                  210       152.0     2500.175687        2020\n",
       "7763                  260       174.0     2702.257301        2011\n",
       "\n",
       "[7764 rows x 4 columns]"
      ]
     },
     "execution_count": 41,
     "metadata": {},
     "output_type": "execute_result"
    }
   ],
   "source": [
    "df_train_full"
   ]
  },
  {
   "cell_type": "code",
   "execution_count": 42,
   "id": "816e48a8-08d6-4ebe-9fd5-2111075b07c3",
   "metadata": {},
   "outputs": [
    {
     "data": {
      "text/plain": [
       "(7764, 4)"
      ]
     },
     "execution_count": 42,
     "metadata": {},
     "output_type": "execute_result"
    }
   ],
   "source": [
    "df_train_full.shape"
   ]
  },
  {
   "cell_type": "code",
   "execution_count": 43,
   "id": "939c34a2-d047-4b18-ad07-b22bb6704515",
   "metadata": {},
   "outputs": [
    {
     "data": {
      "text/plain": [
       "0       10.304700\n",
       "1       13.479434\n",
       "2       16.190653\n",
       "3       15.446503\n",
       "4       14.472172\n",
       "          ...    \n",
       "7759    12.850141\n",
       "7760    11.681418\n",
       "7761    13.678140\n",
       "7762    17.593237\n",
       "7763    16.068975\n",
       "Name: fuel_efficiency_mpg, Length: 7764, dtype: float64"
      ]
     },
     "execution_count": 43,
     "metadata": {},
     "output_type": "execute_result"
    }
   ],
   "source": [
    "# Concatenate the training + validation targets\n",
    "y_train_full = pd.concat([y_train,y_val]).reset_index(drop=True)\n",
    "y_train_full"
   ]
  },
  {
   "cell_type": "code",
   "execution_count": 44,
   "id": "9bac59ad-9151-4d2e-8cc0-d36faaacf296",
   "metadata": {},
   "outputs": [
    {
     "data": {
      "text/plain": [
       "(7764,)"
      ]
     },
     "execution_count": 44,
     "metadata": {},
     "output_type": "execute_result"
    }
   ],
   "source": [
    "y_train_full.shape"
   ]
  },
  {
   "cell_type": "code",
   "execution_count": 45,
   "id": "c1af5c15-271c-4f86-925b-4c0ed1c8819d",
   "metadata": {},
   "outputs": [
    {
     "data": {
      "text/plain": [
       "pandas.core.series.Series"
      ]
     },
     "execution_count": 45,
     "metadata": {},
     "output_type": "execute_result"
    }
   ],
   "source": [
    "type(y_train_full)"
   ]
  },
  {
   "cell_type": "code",
   "execution_count": 46,
   "id": "eaf83d75-3358-4790-8fcb-1a5ceb1b0ac7",
   "metadata": {},
   "outputs": [
    {
     "data": {
      "text/plain": [
       "array([[ 2.40000000e+02,  1.36000000e+02,  4.05051229e+03,\n",
       "         1.10000000e+01],\n",
       "       [ 1.90000000e+02,  1.41000000e+02,  3.19586694e+03,\n",
       "         0.00000000e+00],\n",
       "       [ 2.00000000e+02,  1.84000000e+02,  3.00616437e+03,\n",
       "         0.00000000e+00],\n",
       "       ...,\n",
       "       [ 1.80000000e+02,  1.54000000e+02,  3.34696567e+03,\n",
       "        -1.00000000e+00],\n",
       "       [ 2.10000000e+02,  1.52000000e+02,  2.50017569e+03,\n",
       "        -3.00000000e+00],\n",
       "       [ 2.60000000e+02,  1.74000000e+02,  2.70225730e+03,\n",
       "         6.00000000e+00]])"
      ]
     },
     "execution_count": 46,
     "metadata": {},
     "output_type": "execute_result"
    }
   ],
   "source": [
    "X_train_full = prepare_X(df_train_full)\n",
    "X_train_full"
   ]
  },
  {
   "cell_type": "code",
   "execution_count": 47,
   "id": "22fb7dc1-8ca6-45d1-9aee-aa4a5dd32159",
   "metadata": {},
   "outputs": [
    {
     "data": {
      "text/plain": [
       "0.516"
      ]
     },
     "execution_count": 47,
     "metadata": {},
     "output_type": "execute_result"
    }
   ],
   "source": [
    "w0, w = train_linear_regression_reg(X_train_full, y_train_full, r = 0.001) # je dois faire un df prepare avec la\n",
    "\n",
    "X_test = prepare_X(df_test)\n",
    "y_pred = w0 + X_test.dot(w)\n",
    "\n",
    "rmse(y_test, y_pred)"
   ]
  },
  {
   "cell_type": "markdown",
   "id": "b17f7f4d-178d-417b-952e-85e62fbb6b9b",
   "metadata": {},
   "source": [
    "***Answer:*** 0.515"
   ]
  }
 ],
 "metadata": {
  "kernelspec": {
   "display_name": "Python 3 (ipykernel)",
   "language": "python",
   "name": "python3"
  },
  "language_info": {
   "codemirror_mode": {
    "name": "ipython",
    "version": 3
   },
   "file_extension": ".py",
   "mimetype": "text/x-python",
   "name": "python",
   "nbconvert_exporter": "python",
   "pygments_lexer": "ipython3",
   "version": "3.11.13"
  }
 },
 "nbformat": 4,
 "nbformat_minor": 5
}
